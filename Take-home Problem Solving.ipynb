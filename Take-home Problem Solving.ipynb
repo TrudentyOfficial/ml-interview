{
  "nbformat": 4,
  "nbformat_minor": 0,
  "metadata": {
    "colab": {
      "provenance": [],
      "toc_visible": true
    },
    "kernelspec": {
      "name": "python3",
      "display_name": "Python 3"
    },
    "language_info": {
      "name": "python"
    }
  },
  "cells": [
    {
      "cell_type": "markdown",
      "source": [
        "# Take-Home Problem-Solving: Customer Trust Score & Identity Mapping"
      ],
      "metadata": {
        "id": "oMtmMKQSOkSY"
      }
    },
    {
      "cell_type": "markdown",
      "source": [
        "**Instructions**:\n",
        "\n",
        "You are given structured data for browser fingerprinting and open banking - account & transaction details, which can be used to give a Customer Trust Score (Friendly-fraud detection) and map identities across networks (in folder **Identity Mapping** & **Open Banking**).\n",
        "\n",
        "Use this data format to answer the following questions and propose solutions for fraud detection, synthetic identity detection, and network-wide identity mapping.\n",
        "\n",
        "Explain your reasoning, algorithms, and approach where applicable."
      ],
      "metadata": {
        "id": "9ggZK8jrO1R2"
      }
    },
    {
      "cell_type": "markdown",
      "source": [
        "# Section 1: Customer Trust Score / Fraud Detection (Friendly Fraud)"
      ],
      "metadata": {
        "id": "XQohdiDCOk6O"
      }
    },
    {
      "cell_type": "markdown",
      "source": [
        "## Question 1: Data Preprocessing & Feature Engineering\n",
        "\n",
        "Given the JSON dataset provided, outline the detailed list of features you would extract to detect fraudulent activities.\n",
        "\n",
        "- **Answer Guidelines**:\n",
        "\n",
        "Identify essential attributes from banking data, transactions, browser fingerprinting and connections between them that indicate fraud.\n",
        "Discuss methods to handle missing or null values (e.g., mobile_number is null).\n",
        "Explain how feature engineering can improve fraud detection performance."
      ],
      "metadata": {
        "id": "OFanPHGsO7TA"
      }
    },
    {
      "cell_type": "markdown",
      "source": [
        "\n",
        "## Question 2: Model & Algorithm Selection\n",
        "\n",
        "Which techniques & model(s) would you choose to detect friendly fraudulent activities in merchant & banking transactions when you have very limited data?\n",
        "\n",
        "- **Answer Guidelines**:\n",
        "\n",
        "Discuss models such as judgement-based models, tree-based models, or Graph Neural Networks (GNNs) for customer trust scoring. Address potential class issues in each model.\n",
        "\n",
        "Determine and identify biases against certain individuals.\n",
        "\n",
        "How would you break down the contributing factors and make the score interpretable for stakeholders, such as customers, risk analysts, and regulators?"
      ],
      "metadata": {
        "id": "WL_hcGMTdLYD"
      }
    },
    {
      "cell_type": "markdown",
      "source": [
        "# Section 2: Identity Mapping (Synthetic Identities, & Syndicate Activity)"
      ],
      "metadata": {
        "id": "pjkhGcBlPIU1"
      }
    },
    {
      "cell_type": "markdown",
      "source": [
        "\n",
        "\n",
        "## Question 3: Identity Mapping Across Networks\n",
        "\n",
        "How would you link users across different financial institutions and open banking data to find the similarity and uniqueness of users, and detect potential fraud rings?\n",
        "\n",
        "- **Answer Guidelines**:\n",
        "\n",
        "\n",
        "Describe logics, techniques, and models for entity resolution and identity linking (e.g., fuzzy matching, graph-based approaches).\n",
        "Explain how device fingerprints, email, and account identifiers can be correlated.\n",
        "Discuss the risk of synthetic identities and how to differentiate legitimate users from fraudulent actors.\n"
      ],
      "metadata": {
        "id": "JweUcTE0hffL"
      }
    },
    {
      "cell_type": "markdown",
      "source": [
        "# Deliverables\n",
        "- **Technical Report.pdf** -  A comprehensive guideline and analysis report detailing the approach, architecture decisions, feature engineering, development process, and model insights.\n",
        "- **Implementation.ipynb** - Implementation for some part of feature engineering mentioned in the Technical Report for identifying high-risk customers and calculate Customer Trust Score.\n",
        "- **Deployment Strategy.pdf** A detailed deployment strategy with:\n",
        "  + Infrastructure setup (Cloud, On-Prem, Hybrid)\n",
        "  + Model Deployment (API, Batch Processing, Edge)\n",
        "  + CI/CD Pipelines for ML\n",
        "  + Real-time Streaming Auto-retraining & Monitoring.\n",
        "\n",
        "**NOTE**: After some analysis of the provided data, we can see that this data might be synthetically duplicated with the same values or the provided data is not sufficient to train statistical ML models. So we will suggest some insights and highlight techniques based on the common knowledge of statistical Machine Learning models as well as other rule-based models for fraud detection.\n"
      ],
      "metadata": {
        "id": "L07VOUkGPSl3"
      }
    }
  ]
}